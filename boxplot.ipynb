{
 "cells": [
  {
   "cell_type": "markdown",
   "metadata": {},
   "source": [
    "# Creating Boxplots in Python with Matplotlib"
   ]
  },
  {
   "cell_type": "markdown",
   "metadata": {},
   "source": [
    "### Importing libraries"
   ]
  },
  {
   "cell_type": "code",
   "execution_count": 1,
   "metadata": {
    "collapsed": true
   },
   "outputs": [],
   "source": [
    "# Numpy is used for creating fake data\n",
    "import numpy as np\n",
    "import matplotlib as mpl\n",
    "\n",
    "# Agg backend is used to save plot as a .png file\n",
    "# mpl.use('agg')\n",
    "\n",
    "# To display plot inline in an IPython notebook\n",
    "%matplotlib inline  \n",
    "\n",
    "import matplotlib.pyplot as plt"
   ]
  },
  {
   "cell_type": "markdown",
   "metadata": {
    "slideshow": {
     "slide_type": "-"
    }
   },
   "source": [
    "### Creating fake data for the boxplots\n",
    "We use the method ```numpy.random.normal()``` which takes three arguments: mean, standard deviation, and number of values desired."
   ]
  },
  {
   "cell_type": "code",
   "execution_count": 2,
   "metadata": {
    "collapsed": true
   },
   "outputs": [],
   "source": [
    "# Creating data\n",
    "np.random.seed(10)\n",
    "collection_1 = np.random.normal(100, 10, 200)\n",
    "collection_2 = np.random.normal(80, 30, 200)\n",
    "collection_3 = np.random.normal(90, 20, 200)\n",
    "collection_4 = np.random.normal(70, 25, 200)\n",
    "\n",
    "# Combine these different collections into a list\n",
    "data_to_plot = [collection_1, collection_2, collection_3, collection_4]"
   ]
  },
  {
   "cell_type": "markdown",
   "metadata": {},
   "source": [
    "### Creating the boxplot\n",
    "\n",
    "The list of arrays is now used to create the plot."
   ]
  },
  {
   "cell_type": "code",
   "execution_count": 3,
   "metadata": {
    "collapsed": false
   },
   "outputs": [
    {
     "data": {
      "image/png": "[encoded data removed]",
      "text/plain": [
       "<matplotlib.figure.Figure at 0x7fe5f9dd4b70>"
      ]
     },
     "metadata": {},
     "output_type": "display_data"
    }
   ],
   "source": [
    "# Create a figure instance\n",
    "fig = plt.figure(1, figsize=(9, 6))\n",
    "\n",
    "# Create an axis instance with a 1x1 grid\n",
    "ax = fig.add_subplot(1, 1, 1)\n",
    "\n",
    "# Create the boxplot\n",
    "bp = ax.boxplot(data_to_plot)\n",
    "\n",
    "# To save the plot as a .png (requires agg backend)\n",
    "# fig.savefig('fig1.png', bbox_inches='tight')"
   ]
  },
  {
   "cell_type": "markdown",
   "metadata": {},
   "source": [
    "### Modifying the color of the plots\n",
    "\n",
    "The ```bp``` variable created is a python dictionary with the keys: boxes, whiskers, caps, fliers, and median. To change their colors, their properties may be accessed as ```bp['boxes']```, or ```bp['whiskers']```."
   ]
  },
  {
   "cell_type": "code",
   "execution_count": 4,
   "metadata": {
    "collapsed": false,
    "scrolled": false
   },
   "outputs": [
    {
     "data": {
      "image/png": "[encoded data removed]",
      "text/plain": [
       "<matplotlib.figure.Figure at 0x7fe5f9d9f1d0>"
      ]
     },
     "metadata": {},
     "output_type": "display_data"
    }
   ],
   "source": [
    "\n",
    "fig = plt.figure(1, figsize=(9, 6))\n",
    "ax = fig.add_subplot(1, 1, 1)\n",
    "bp = ax.boxplot(data_to_plot)\n",
    "\n",
    "# Add patch_artist = True option to ax.boxplot()\n",
    "# to get the fill color\n",
    "bp = ax.boxplot(data_to_plot, patch_artist=True)\n",
    "\n",
    "# Change the outline color, fill color and linewidth\n",
    "# of the boxes\n",
    "for box in bp['boxes']:\n",
    "    #change outline color\n",
    "    box.set(color = '#7570b3', linewidth = 2)\n",
    "    #change fill color\n",
    "    box.set(facecolor = '#1b9e77')\n",
    "\n",
    "# Change the color and linewidth of the whiskers\n",
    "for whisker in bp['whiskers']:\n",
    "    whisker.set(color = '#7570b3', linewidth = 2)\n",
    "    \n",
    "# Change the color and linewidth of the caps\n",
    "for cap in bp['caps']:\n",
    "    cap.set(color = '#7570b3', linewidth = 2)\n",
    "    \n",
    "# Change the color and linewidth of the medians\n",
    "for median in bp['medians']:\n",
    "    median.set(color = '#b2df8a', linewidth = 2)\n",
    "\n",
    "# Change the style of fliers and their fill\n",
    "for flier in bp['fliers']:\n",
    "    flier.set(marker = 'o', color = '#e7298a', alpha = 0.5)"
   ]
  },
  {
   "cell_type": "markdown",
   "metadata": {},
   "source": [
    "### Changing the axis labels"
   ]
  },
  {
   "cell_type": "code",
   "execution_count": 6,
   "metadata": {
    "collapsed": false
   },
   "outputs": [
    {
     "data": {
      "image/png": "[encoded data removed]",
      "text/plain": [
       "<matplotlib.figure.Figure at 0x7fe5f9c1eef0>"
      ]
     },
     "metadata": {},
     "output_type": "display_data"
    }
   ],
   "source": [
    "fig = plt.figure(1, figsize=(9, 6))\n",
    "ax = fig.add_subplot(1, 1, 1)\n",
    "bp = ax.boxplot(data_to_plot)\n",
    "\n",
    "\n",
    "bp = ax.boxplot(data_to_plot, patch_artist=True)\n",
    "for box in bp['boxes']:\n",
    "    box.set(color = '#7570b3', linewidth = 2)\n",
    "    box.set(facecolor = '#1b9e77')\n",
    "\n",
    "for whisker in bp['whiskers']:\n",
    "    whisker.set(color = '#7570b3', linewidth = 2)\n",
    "    \n",
    "for cap in bp['caps']:\n",
    "    cap.set(color = '#7570b3', linewidth = 2)\n",
    "    \n",
    "for median in bp['medians']:\n",
    "    median.set(color = '#b2df8a', linewidth = 2)\n",
    "\n",
    "for flier in bp['fliers']:\n",
    "    flier.set(marker = 'o', color = '#e7298a', alpha = 0.5)\n",
    "    \n",
    "# Custom x-axis labels\n",
    "ax.set_xticklabels(['Sample1', 'Sample2', 'Sample3', 'Sample4'])\n",
    "\n",
    "fig.show()"
   ]
  },
  {
   "cell_type": "code",
   "execution_count": null,
   "metadata": {
    "collapsed": true
   },
   "outputs": [],
   "source": []
  }
 ],
 "metadata": {
  "kernelspec": {
   "display_name": "Python 3",
   "language": "python",
   "name": "python3"
  },
  "language_info": {
   "codemirror_mode": {
    "name": "ipython",
    "version": 3
   },
   "file_extension": ".py",
   "mimetype": "text/x-python",
   "name": "python",
   "nbconvert_exporter": "python",
   "pygments_lexer": "ipython3",
   "version": "3.4.0"
  }
 },
 "nbformat": 4,
 "nbformat_minor": 0
}
