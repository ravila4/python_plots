{
 "cells": [
  {
   "cell_type": "markdown",
   "metadata": {},
   "source": [
    "# Plotting Histograms in Python"
   ]
  },
  {
   "cell_type": "markdown",
   "metadata": {},
   "source": [
    "### Importing the Libraries"
   ]
  },
  {
   "cell_type": "code",
   "execution_count": 1,
   "metadata": {},
   "outputs": [],
   "source": [
    "# We import the Gaussian distribution module from numpy\n",
    "# to generate random numbers for our dataset\n",
    "from numpy.random import normal\n",
    "import matplotlib.pyplot as plt\n",
    "\n",
    "# Display inline plots in notebook\n",
    "%matplotlib inline"
   ]
  },
  {
   "cell_type": "markdown",
   "metadata": {},
   "source": [
    "### Plotting our Data\n",
    "\n",
    "We use the ```pyplot.hist()``` method to plot our data. Matplotlib's histogram defaults to 10 bins as shown below."
   ]
  },
  {
   "cell_type": "code",
   "execution_count": 2,
   "metadata": {},
   "outputs": [],
   "source": [
    "# Create an array of 1000 random numbers in a gaussian distribution.\n",
    "gaussian_numbers = normal(size = 1000)\n",
    "\n",
    "# Plot the data\n",
    "plt.hist(gaussian_numbers)\n",
    "plt.title('Gaussian Histogram')\n",
    "plt.xlabel('Value')\n",
    "plt.ylabel('Frequency')\n",
    "\n",
    "plt.show()"
   ]
  },
  {
   "cell_type": "markdown",
   "metadata": {},
   "source": [
    "### Setting Histogram Parameters\n",
    "\n",
    "Since our dataset is large, we can increase the number of bins to have a better resolution. <br/>\n",
    "We can also plot the data as a probablility distribution instead of frequency counts. This is done via the ```normed=True``` attribute, which integrates the area under the histogram (the total number of points in the array), and scales the values appropriately."
   ]
  },
  {
   "cell_type": "code",
   "execution_count": 3,
   "metadata": {},
   "outputs": [],
   "source": [
    "# Setting the number of bins to 20 and normalizing data\n",
    "plt.hist(gaussian_numbers, bins = 20, normed = True)\n",
    "\n",
    "plt.title('Gaussian Histogram')\n",
    "plt.xlabel('Value')\n",
    "plt.ylabel('Probablility')\n",
    "\n",
    "plt.show()"
   ]
  },
  {
   "cell_type": "markdown",
   "metadata": {},
   "source": [
    "We may also wish to display the data as a cumulative distribution function. This plot shows the probablility of finding a number in a given bin or any lower bin."
   ]
  },
  {
   "cell_type": "code",
   "execution_count": 4,
   "metadata": {},
   "outputs": [],
   "source": [
    "# Plotting a cumulative probablility distribution\n",
    "plt.hist(gaussian_numbers, bins = 20, normed = True, cumulative = True)\n",
    "\n",
    "plt.title('Cumulative Distribution Function')\n",
    "plt.xlabel('Value')\n",
    "plt.ylabel('Probablility')\n",
    "\n",
    "plt.show()"
   ]
  },
  {
   "cell_type": "markdown",
   "metadata": {},
   "source": [
    "Matplotlib automatically calculates the appropriate location for the bins, but if we wish to know where our bins begin and end, we can pass a sequence of values defining the edges of our bins."
   ]
  },
  {
   "cell_type": "code",
   "execution_count": 5,
   "metadata": {},
   "outputs": [
    {
     "data": {
      "image/png": "[encoded data removed]"
     },
     "output_type": "display_data",
     "metadata": {}
    }
   ],
   "source": [
    "# Defining custom bins\n",
    "plt.hist(gaussian_numbers, bins = (-10,-2,0,2,10))\n",
    "plt.show()"
   ]
  },
  {
   "cell_type": "markdown",
   "metadata": {},
   "source": [
    "### Changing the Look of the Histogram\n",
    "\n",
    "Matplotlib offers many ways of customizing the plot, such as adding color and legends. Changing the histogram type to \"stepped\" or \"stepfilled\" may be useful when creating plots with many bins, because the black lines can become overcrowded."
   ]
  },
  {
   "cell_type": "code",
   "execution_count": 6,
   "metadata": {},
   "outputs": [
    {
     "data": {
      "image/png": "[encoded data removed]"
     },
     "output_type": "display_data",
     "metadata": {}
    }
   ],
   "source": [
    "# Creating a \"stepped\" histogram with a dashed line\n",
    "plt.hist(gaussian_numbers, bins = 20, histtype = 'step', color = '#C05138', linestyle = 'dashed')\n",
    "plt.show()"
   ]
  },
  {
   "cell_type": "markdown",
   "metadata": {},
   "source": [
    "The alpha transparency attribute of histograms can be useful when plotting two or more datasets in the same figure.<br/>Here we plot an array of uniformly distributed random numbers atop the previously generated Gaussian distribution."
   ]
  },
  {
   "cell_type": "code",
   "execution_count": 7,
   "metadata": {},
   "outputs": [
    {
     "data": {
      "image/png": "[encoded data removed]"
     },
     "output_type": "display_data",
     "metadata": {}
    }
   ],
   "source": [
    "from numpy.random import uniform\n",
    "\n",
    "# Creating a second dataset of uniformly distributed random numbers\n",
    "uniform_numbers = uniform(low = -3, high = 3, size = 1000)\n",
    "\n",
    "# Plotting both datasets in one histogram\n",
    "plt.hist(gaussian_numbers, bins = 20, histtype = 'stepfilled',\n",
    "         normed = True, color = 'b', label = 'Gaussian')\n",
    "plt.hist(uniform_numbers, bins = 20, histtype = 'stepfilled',\n",
    "         normed = True, color = 'k', alpha = 0.5, label = 'Uniform')\n",
    "\n",
    "plt.title('Gaussian / Uniform Distributions')\n",
    "plt.xlabel('Value')\n",
    "plt.ylabel('Probablility')\n",
    "plt.legend()\n",
    "\n",
    "plt.show()"
   ]
  },
  {
   "cell_type": "code",
   "execution_count": null,
   "metadata": {},
   "outputs": [],
   "source": [
    ""
   ]
  }
 ],
 "metadata": {
  "kernelspec": {
   "display_name": "Python 3",
   "language": "python",
   "name": "python3"
  },
  "language_info": {
   "codemirror_mode": {
    "name": "ipython",
    "version": 3.0
   },
   "file_extension": ".py",
   "mimetype": "text/x-python",
   "name": "python",
   "nbconvert_exporter": "python",
   "pygments_lexer": "ipython3",
   "version": "3.4.0"
  }
 },
 "nbformat": 4,
 "nbformat_minor": 0
}